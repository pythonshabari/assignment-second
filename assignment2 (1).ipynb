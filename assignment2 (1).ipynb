{
  "nbformat": 4,
  "nbformat_minor": 0,
  "metadata": {
    "colab": {
      "name": "assignment2.ipynb",
      "provenance": []
    },
    "kernelspec": {
      "name": "python3",
      "display_name": "Python 3"
    },
    "language_info": {
      "name": "python"
    }
  },
  "cells": [
    {
      "cell_type": "code",
      "execution_count": null,
      "metadata": {
        "id": "3d85Be6ail2K"
      },
      "outputs": [],
      "source": [
        "'''Problem Statement:\n",
        "Among the given movies and their ratings by the user, they expect to find all the movies that have a rating greater or equal to a specific rating i.e,\n",
        "if the user enters 7.5 as the input then all the movies with a rating greater than or equal to 7.5 are supposed to be displayed.\n",
        "Constraints:\n",
        "Input format for movie name and rating: moviename_rating\n",
        "Should ask user whether they would like to continue and enter another moviename_rating or would like to move to the next part.\n",
        "Movie rating is a float value starting from 0 to 10.\n",
        "Output should have moviename and its respective rating.'''"
      ]
    },
    {
      "cell_type": "code",
      "source": [
        "con = 1\n",
        "moviedb = {}\n",
        "\n",
        "while con == 1:\n",
        "  movier = input(\"Enter the name of the movie along with the rating (input format: moviename_rating, ratings are float values that range from 0 to 10 only):\")\n",
        "  movie, rating = movier.split('_') \n",
        "  rating = float(rating)\n",
        "  moviedb[movie] = rating \n",
        "  con = int(input(\"Enter 1 to enter another input or 0 to end the input:\"))\n",
        "\n",
        "query = float(input(\"Choose a rating category. Enter a rating from 0 to 10 (this displays all the movies with greater than or equal to the given input rating):\"))\n",
        "\n",
        "print()\n",
        "\n",
        "for m, r in moviedb.items():\n",
        "  if r >= query:\n",
        "    print(m, r)"
      ],
      "metadata": {
        "colab": {
          "base_uri": "https://localhost:8080/"
        },
        "id": "TtXpfn33S-kO",
        "outputId": "59fa2ac5-6e4c-4189-b90c-dc6c65a70386"
      },
      "execution_count": 2,
      "outputs": [
        {
          "output_type": "stream",
          "name": "stdout",
          "text": [
            "Enter the name of the movie along with the rating (input format: moviename_rating, ratings are float values that range from 0 to 10 only):bbbv_5.0\n",
            "Enter 1 to enter another input or 0 to end the input:1\n",
            "Enter the name of the movie along with the rating (input format: moviename_rating, ratings are float values that range from 0 to 10 only):sss_5.5\n",
            "Enter 1 to enter another input or 0 to end the input:1\n",
            "Enter the name of the movie along with the rating (input format: moviename_rating, ratings are float values that range from 0 to 10 only):rrres_9.5\n",
            "Enter 1 to enter another input or 0 to end the input:1\n",
            "Enter the name of the movie along with the rating (input format: moviename_rating, ratings are float values that range from 0 to 10 only):dfdra_8.5\n",
            "Enter 1 to enter another input or 0 to end the input:0\n",
            "Choose a rating category. Enter a rating from 0 to 10 (this displays all the movies with greater than or equal to the given input rating):6\n",
            "\n",
            "rrres 9.5\n",
            "dfdra 8.5\n"
          ]
        }
      ]
    }
  ]
}